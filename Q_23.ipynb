{
 "cells": [
  {
   "cell_type": "markdown",
   "id": "c2e57e9e-7b4b-4e5a-9a46-df7ca118ad4d",
   "metadata": {},
   "source": [
    "In a jupyter notebook solve the following question using python. Please upload the notebook to GitHub and provide the link submission box below.\n",
    "\n",
    "\n",
    "\n",
    "Develop a recursive function tough() that takes two nonnegative integer arguments and outputs a pattern as shown below.\n",
    "Hint: The first argument represents the indentation of the pattern, where the second argument -- always a pattern of\n",
    "2 indicates the number *s in the longest line of *s in the pattern\n",
    "\n",
    "https://gc.blackboard.com/bbcswebdav/pid-38740945-dt-asiobject-rid-83782051_1/xid-83782051_1"
   ]
  },
  {
   "cell_type": "code",
   "execution_count": null,
   "id": "a7117efa-d0ac-4ff3-89a6-d1c2f898250b",
   "metadata": {},
   "outputs": [],
   "source": [
    "In a jupyter notebook solve the following question using python. Please upload the notebook to GitHub and provide the link submission box below.\n",
    "\n",
    "\n",
    "\n",
    "Develop a recursive function tough() that takes two nonnegative integer arguments and outputs a pattern as shown below.\n",
    "Hint: The first argument represents the indentation of the pattern, where the second argument -- always a pattern of\n",
    "2 indicates the number *s in the longest line of *s in the pattern\n",
    "\n",
    "https://gc.blackboard.com/bbcswebdav/pid-38740945-dt-asiobject-rid-83782051_1/xid-83782051_1"
   ]
  },
  {
   "cell_type": "code",
   "execution_count": null,
   "id": "d8916388-3fd7-419b-a331-214458103df2",
   "metadata": {},
   "outputs": [],
   "source": [
    "ANSWER:"
   ]
  },
  {
   "cell_type": "code",
   "execution_count": 1,
   "id": "6310aaec-0384-4735-86f8-7e568a6cca86",
   "metadata": {},
   "outputs": [
    {
     "name": "stdout",
     "output_type": "stream",
     "text": [
      "----\n",
      "\n",
      "----\n",
      "*\n",
      "\n",
      "----\n",
      "*\n",
      "**\n",
      " *\n",
      "\n",
      "----\n",
      "*\n",
      "**\n",
      " *\n",
      "***\n",
      " *\n",
      " **\n",
      "  *\n",
      "****\n",
      " *\n",
      " **\n",
      "  *\n",
      " ***\n",
      "  *\n",
      "  **\n",
      "   *\n",
      "\n"
     ]
    }
   ],
   "source": [
    "def tough(indent, stars):\n",
    "    if stars == 0:\n",
    "        return\n",
    "    tough(indent, stars - 1) \n",
    "    print(\" \" * indent + \"*\" * stars)\n",
    "    tough(indent + 1, stars - 1)\n",
    "\n",
    "def f(indent, stars):\n",
    "    tough(indent, stars)\n",
    "    print()\n",
    "\n",
    "print(\"----\")\n",
    "f(0, 0)\n",
    "print(\"----\")\n",
    "f(0, 1)\n",
    "print(\"----\")\n",
    "f(0, 2)\n",
    "print(\"----\")\n",
    "f(0, 4)"
   ]
  },
  {
   "cell_type": "code",
   "execution_count": null,
   "id": "bc321cf1-7df1-409e-8983-0f8a8aab5a5d",
   "metadata": {},
   "outputs": [],
   "source": []
  }
 ],
 "metadata": {
  "kernelspec": {
   "display_name": "Python 3 (ipykernel)",
   "language": "python",
   "name": "python3"
  },
  "language_info": {
   "codemirror_mode": {
    "name": "ipython",
    "version": 3
   },
   "file_extension": ".py",
   "mimetype": "text/x-python",
   "name": "python",
   "nbconvert_exporter": "python",
   "pygments_lexer": "ipython3",
   "version": "3.11.7"
  }
 },
 "nbformat": 4,
 "nbformat_minor": 5
}
